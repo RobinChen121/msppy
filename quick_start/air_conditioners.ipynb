{
 "cells": [
  {
   "cell_type": "markdown",
   "metadata": {},
   "source": [
    "# An air conditioner problem\n",
    "A stage-wise independent finite discrete MSLP.    \n",
    "The data process is stage-wise independent and on the RHS.    \n",
    "It was originally from\n",
    "http://www.optimization-online.org/DB_FILE/2017/12/6388.pdf    \n",
    "Verified optimal value by extensive solver is 68200.    \n",
    "SDDP solver also obtains the same optimal value."
   ]
  },
  {
   "cell_type": "markdown",
   "metadata": {},
   "source": [
    "## Formulation\n",
    "\\begin{align*}\n",
    "    \\min~ & \\sum_{t=1}^T x_t + 3 w_t + 0.5 y_t\\\\\n",
    "    s.t.~ & \\textrm{for}~ t = 1,\\dots,T\\\\\n",
    "         & x_t \\leq 2\\\\\n",
    "         & x_t + w_t + y_{t-1} - y_t = d_t\\\\\n",
    "         & y_0 = 0, d_1 = 100, \n",
    "             d_2,\\dots,d_T\\overset{i.i.d}{\\sim}\n",
    "                \\begin{cases}\n",
    "                    100, \\textrm{w.p.}~ 0.4\\\\\n",
    "                    300, \\textrm{w.p.}~ 0.6\n",
    "                \\end{cases}\n",
    "\\end{align*}"
   ]
  },
  {
   "cell_type": "code",
   "execution_count": 4,
   "metadata": {},
   "outputs": [
    {
     "name": "stdout",
     "output_type": "stream",
     "text": [
      "Academic license - for non-commercial use only\n",
      "Academic license - for non-commercial use only\n",
      "Academic license - for non-commercial use only\n"
     ]
    }
   ],
   "source": [
    "from msppy.msp import MSIP\n",
    "from msppy.solver import SDDiP,Extensive\n",
    "import gurobipy\n",
    "T = 3\n",
    "A = [100,300]\n",
    "airConditioners = MSIP(T=T, bound=0)\n",
    "for t in range(T):\n",
    "    m = airConditioners[t]\n",
    "    storage_now, storage_past = m.addStateVar(vtype='I', obj=50)\n",
    "    produce = m.addVar(ub=200, vtype='I', obj=100)\n",
    "    overtime = m.addVar(vtype='I', obj=300)\n",
    "    m.update()\n",
    "    if t == 0:\n",
    "        m.addConstr(produce + overtime - storage_now == 100)\n",
    "    else:\n",
    "        m.addConstr(\n",
    "            storage_past + produce + overtime - storage_now == 0, \n",
    "            uncertainty={'rhs': A}\n",
    "        )\n",
    "        m.set_probability([0.4,0.6])"
   ]
  },
  {
   "cell_type": "code",
   "execution_count": 6,
   "metadata": {},
   "outputs": [
    {
     "name": "stderr",
     "output_type": "stream",
     "text": [
      "----------------------------------------------------------------\n",
      "                   SDDP Solver, Lingquan Ding                   \n",
      "----------------------------------------------------------------\n",
      "   Iteration               Bound               Value        Time\n",
      "----------------------------------------------------------------\n",
      "           1        68200.000000        95000.000000    0.021094\n",
      "           2        68200.000000        95000.000000    0.018762\n",
      "           3        68200.000000        55000.000000    0.032083\n",
      "           4        68200.000000        95000.000000    0.015700\n",
      "           5        68200.000000        95000.000000    0.013577\n",
      "           6        68200.000000        60000.000000    0.009194\n",
      "           7        68200.000000        55000.000000    0.014426\n",
      "           8        68200.000000        60000.000000    0.013763\n",
      "           9        68200.000000        95000.000000    0.008099\n",
      "          10        68200.000000        60000.000000    0.006122\n",
      "----------------------------------------------------------------\n",
      "Time: 0.15281963348388672 seconds\n",
      "Algorithm stops since iteration:10 has reached\n"
     ]
    }
   ],
   "source": [
    "Extensive(airConditioners).solve(outputFlag=0)\n",
    "SDDiP(airConditioners).solve(cuts=['B'], max_iterations=10)"
   ]
  }
 ],
 "metadata": {
  "kernelspec": {
   "display_name": "Python 3 (ipykernel)",
   "language": "python",
   "name": "python3"
  },
  "language_info": {
   "codemirror_mode": {
    "name": "ipython",
    "version": 3
   },
   "file_extension": ".py",
   "mimetype": "text/x-python",
   "name": "python",
   "nbconvert_exporter": "python",
   "pygments_lexer": "ipython3",
   "version": "3.10.9"
  }
 },
 "nbformat": 4,
 "nbformat_minor": 2
}
