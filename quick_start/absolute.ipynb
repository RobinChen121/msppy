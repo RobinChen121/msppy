{
 "cells": [
  {
   "cell_type": "markdown",
   "metadata": {},
   "source": [
    "# Minimize the absolute value\n",
    "A stage-wise independent finite discrete MSLP.    \n",
    "The data process is stage-wise independent and on the RHS.    \n",
    "This is a problem originally from Bernado.        "
   ]
  },
  {
   "cell_type": "markdown",
   "metadata": {},
   "source": [
    "## Formulation\n",
    "\\begin{align*}\n",
    "    \\min~ & \\sum_{t=1}^T |x_t|\\\\\n",
    "    s.t.~ & \\textrm{for}~ t = 1,\\dots,T\\\\\n",
    "         & x_t = x_{t-1} + c_t + \\epsilon_t\\\\\n",
    "         & \\epsilon_t\\overset{i.i.d}{\\sim} N(-1,1) \\\\\n",
    "         & c_t \\in \\{-1,1\\} \\\\\n",
    "         & x_1 = 0\n",
    "\\end{align*}"
   ]
  },
  {
   "cell_type": "code",
   "execution_count": 1,
   "metadata": {},
   "outputs": [
    {
     "ename": "ModuleNotFoundError",
     "evalue": "No module named 'msppy'",
     "output_type": "error",
     "traceback": [
      "\u001b[0;31m---------------------------------------------------------------------------\u001b[0m",
      "\u001b[0;31mModuleNotFoundError\u001b[0m                       Traceback (most recent call last)",
      "Cell \u001b[0;32mIn[1], line 1\u001b[0m\n\u001b[0;32m----> 1\u001b[0m \u001b[38;5;28;01mfrom\u001b[39;00m \u001b[38;5;21;01mmsppy\u001b[39;00m\u001b[38;5;21;01m.\u001b[39;00m\u001b[38;5;21;01mmsp\u001b[39;00m \u001b[38;5;28;01mimport\u001b[39;00m MSIP\n\u001b[1;32m      2\u001b[0m \u001b[38;5;28;01mfrom\u001b[39;00m \u001b[38;5;21;01mmsppy\u001b[39;00m\u001b[38;5;21;01m.\u001b[39;00m\u001b[38;5;21;01msolver\u001b[39;00m \u001b[38;5;28;01mimport\u001b[39;00m Extensive, SDDiP\n\u001b[1;32m      3\u001b[0m \u001b[38;5;28;01mimport\u001b[39;00m \u001b[38;5;21;01mnumpy\u001b[39;00m\n",
      "\u001b[0;31mModuleNotFoundError\u001b[0m: No module named 'msppy'"
     ]
    }
   ],
   "source": [
    "from msppy.msp import MSIP\n",
    "from msppy.solver import Extensive, SDDiP\n",
    "import numpy\n",
    "numpy.random.seed(3)\n",
    "T = 4\n",
    "precision = 1\n",
    "rhs = [numpy.random.normal(-1,1,size=10) for _ in range(T-1)]\n",
    "absolute = MSIP(T=T, bound=0)\n",
    "for t in range(T):\n",
    "    m = absolute[t]\n",
    "    x_now, x_past = m.addStateVar(lb=-100, ub=100, name='x')\n",
    "    if t == 0:\n",
    "        m.addConstr(x_now == 0)\n",
    "    else:\n",
    "        y = m.addVar(name='y', obj=1)\n",
    "        c = m.addVar(vtype='B', name='c')\n",
    "        slack = m.addVar(ub=1/10**(precision), name='slack')\n",
    "        m.addConstr(y >= -x_now)\n",
    "        m.addConstr(y >= x_now)\n",
    "        m.addConstr(\n",
    "            x_now - x_past - 2*c  + slack == -1,\n",
    "            uncertainty={'rhs': rhs[t-1]}\n",
    "        )"
   ]
  },
  {
   "cell_type": "code",
   "execution_count": null,
   "metadata": {},
   "outputs": [],
   "source": [
    "absolute.binarize(bin_stage=T, precision=precision)\n",
    "Extensive(absolute).solve(outputFlag=0)"
   ]
  },
  {
   "cell_type": "code",
   "execution_count": null,
   "metadata": {},
   "outputs": [],
   "source": [
    "absolute_sddip = SDDiP(absolute)\n",
    "absolute_sddip.solve(cuts=['LG'], n_steps=3, n_processes=3, max_iterations=30)"
   ]
  },
  {
   "cell_type": "code",
   "execution_count": null,
   "metadata": {},
   "outputs": [],
   "source": []
  }
 ],
 "metadata": {
  "kernelspec": {
   "display_name": "Python 3 (ipykernel)",
   "language": "python",
   "name": "python3"
  },
  "language_info": {
   "codemirror_mode": {
    "name": "ipython",
    "version": 3
   },
   "file_extension": ".py",
   "mimetype": "text/x-python",
   "name": "python",
   "nbconvert_exporter": "python",
   "pygments_lexer": "ipython3",
   "version": "3.10.9"
  }
 },
 "nbformat": 4,
 "nbformat_minor": 2
}
